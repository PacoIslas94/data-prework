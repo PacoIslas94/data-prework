{
 "cells": [
  {
   "cell_type": "markdown",
   "metadata": {},
   "source": [
    "<img src=\"https://bit.ly/2VnXWr2\" width=\"100\" align=\"left\">"
   ]
  },
  {
   "cell_type": "markdown",
   "metadata": {},
   "source": [
    "# Rock, Paper & Scissors\n",
    "\n",
    "Let's play the famous game against our computer. You can check the rules [here](https://en.wikipedia.org/wiki/Rock%E2%80%93paper%E2%80%93scissors). \n",
    "\n",
    "## Task\n",
    "Create a program that imitates the playability of the well known game of rock, paper, scissors. Follow the guidelines provided.\n",
    "\n",
    "## Tools\n",
    "1. Loop: **for/while**\n",
    "2. Functions: **input(), print()...**\n",
    "3. Conditional statements: **if, elif, else**\n",
    "4. Definition of functions. Modular programming\n",
    "5. Import modules\n",
    "\n",
    "**To solve this challenge, the use of functions is recommended.**\n",
    "\n",
    "#### 1. Import the choice function of the random module."
   ]
  },
  {
   "cell_type": "code",
   "execution_count": 16,
   "metadata": {},
   "outputs": [],
   "source": [
    "import random"
   ]
  },
  {
   "cell_type": "markdown",
   "metadata": {},
   "source": [
    "#### 2. Create a list that includes the 3 possible gesture options of the game: 'rock', 'paper' or 'scissors'. Store the list in a variable called `gestures`."
   ]
  },
  {
   "cell_type": "code",
   "execution_count": 17,
   "metadata": {},
   "outputs": [],
   "source": [
    "ROCK = '1'\n",
    "PAPER = '2'\n",
    "SCISSORS = '3'\n",
    "LIZARD = '4'\n",
    "SPOCK = '5'\n",
    "\n",
    "gestures = {\n",
    "    ROCK: 'ROCK', \n",
    "    PAPER: 'PAPER', \n",
    "    SCISSORS: 'SCISSORS',\n",
    "    'q': 'QUIT'\n",
    "}"
   ]
  },
  {
   "cell_type": "markdown",
   "metadata": {},
   "source": [
    "#### 3. Create a variable called `n_rounds` to store the maximum number of rounds to play in a game. \n",
    "Remember that the number of rounds must be odd: 1, 3, 5, ..."
   ]
  },
  {
   "cell_type": "code",
   "execution_count": 18,
   "metadata": {},
   "outputs": [],
   "source": [
    "n_rounds = 0"
   ]
  },
  {
   "cell_type": "markdown",
   "metadata": {},
   "source": [
    "#### 4. Create a variable called `rounds_to_win` to store the number of rounds that a player must win to win the game.\n",
    "**Hint**: the value stored in `rounds_to_win` depends on the value of `n_rounds`. "
   ]
  },
  {
   "cell_type": "code",
   "execution_count": 19,
   "metadata": {},
   "outputs": [],
   "source": [
    "rounds_to_win = 0"
   ]
  },
  {
   "cell_type": "markdown",
   "metadata": {},
   "source": [
    "#### 5. Create two variables to store the number of rounds that the computer and the player have won. Call these variables `cpu_score` and `player_score`."
   ]
  },
  {
   "cell_type": "code",
   "execution_count": 20,
   "metadata": {},
   "outputs": [],
   "source": [
    "score = {\n",
    "    'PLAYER': 0,\n",
    "    'CPU': 0,\n",
    "}"
   ]
  },
  {
   "cell_type": "markdown",
   "metadata": {},
   "source": [
    "#### 6. Define a function that randomly returns one of the 3 gesture options.\n",
    "You will use this function to simulate the gesture choice of the computer. "
   ]
  },
  {
   "cell_type": "code",
   "execution_count": 23,
   "metadata": {},
   "outputs": [
    {
     "name": "stdout",
     "output_type": "stream",
     "text": [
      "\n",
      "ROCK(1), PAPER(2), SCISSORS(3), QUIT(q)\n",
      "2\n",
      "Player selected PAPER\n",
      "CPU selected ROCK\n",
      ">>>>>>>> PLAYER wins!\n",
      "\n",
      "ROCK(1), PAPER(2), SCISSORS(3), QUIT(q)\n",
      "3\n",
      "Player selected SCISSORS\n",
      "CPU selected SCISSORS\n",
      ">>>>>>>> TIE!\n",
      "\n",
      "ROCK(1), PAPER(2), SCISSORS(3), QUIT(q)\n",
      "1\n",
      "Player selected ROCK\n",
      "CPU selected PAPER\n",
      ">>>>>>>> CPU wins!\n",
      "\n",
      "ROCK(1), PAPER(2), SCISSORS(3), QUIT(q)\n",
      "q\n",
      "Player selected QUIT\n",
      "CPU selected PAPER\n",
      "\n",
      ">>> Command not defined!\n"
     ]
    }
   ],
   "source": [
    "beats = {\n",
    "    ROCK: [SCISSORS],\n",
    "    PAPER: [ROCK],\n",
    "    SCISSORS: [PAPER],\n",
    "}\n",
    "\n",
    "\n",
    "playerSelection = None\n",
    "\n",
    "\n",
    "while playerSelection != 'q':\n",
    "    try:\n",
    "        print(f\"\\nROCK({ROCK}), PAPER({PAPER}), SCISSORS({SCISSORS}), QUIT(q)\")\n",
    "        playerSelection = input() \n",
    "        \n",
    "        print('Player selected', gestures[playerSelection])\n",
    "\n",
    "        cpuSelection = str(random.randint(int(ROCK), int(SCISSORS)))\n",
    "\n",
    "        print('CPU selected', gestures[cpuSelection])\n",
    "\n",
    "        if cpuSelection == playerSelection:\n",
    "            print('>>>>>>>> TIE!')\n",
    "        elif cpuSelection in beats[playerSelection]:\n",
    "            score['PLAYER'] = score['PLAYER'] + 1\n",
    "            print('>>>>>>>> PLAYER wins!')\n",
    "        else: \n",
    "            score['CPU'] = score['CPU'] + 1\n",
    "            print('>>>>>>>> CPU wins!')\n",
    "\n",
    "    except KeyError:\n",
    "        print(\"\\n>>> Command not defined!\")\n",
    "        continue\n"
   ]
  },
  {
   "cell_type": "markdown",
   "metadata": {},
   "source": [
    "#### 7. Define a function that asks the player which is the gesture he or she wants to show: 'rock', 'paper' or 'scissors'.\n",
    "The player should only be allowed to choose one of the 3 gesture options. If the player's choice is not rock, paper or scissors, keep asking until it is."
   ]
  },
  {
   "cell_type": "code",
   "execution_count": 22,
   "metadata": {},
   "outputs": [
    {
     "ename": "SyntaxError",
     "evalue": "unexpected EOF while parsing (<ipython-input-22-2416ec031a81>, line 10)",
     "output_type": "error",
     "traceback": [
      "\u001b[1;36m  File \u001b[1;32m\"<ipython-input-22-2416ec031a81>\"\u001b[1;36m, line \u001b[1;32m10\u001b[0m\n\u001b[1;33m    print('CPU selected', gestures[cpuSelection])\u001b[0m\n\u001b[1;37m                                                 ^\u001b[0m\n\u001b[1;31mSyntaxError\u001b[0m\u001b[1;31m:\u001b[0m unexpected EOF while parsing\n"
     ]
    }
   ],
   "source": [
    "while playerSelection != 'q':\n",
    "    try:\n",
    "        print(f\"\\nROCK({ROCK}), PAPER({PAPER}), SCISSORS({SCISSORS}), QUIT(q)\")\n",
    "        playerSelection = input() \n",
    "        \n",
    "        print('Player selected', gestures[playerSelection])\n",
    "\n",
    "        cpuSelection = str(random.randint(int(ROCK), int(SCISSORS)))\n",
    "\n",
    "        print('CPU selected', gestures[cpuSelection])\n"
   ]
  },
  {
   "cell_type": "markdown",
   "metadata": {},
   "source": [
    "#### 8. Define a function that checks who won a round. \n",
    "The function should return 0 if there is a tie, 1 if the computer wins and 2 if the player wins."
   ]
  },
  {
   "cell_type": "code",
   "execution_count": 25,
   "metadata": {},
   "outputs": [
    {
     "ename": "IndentationError",
     "evalue": "unindent does not match any outer indentation level (<tokenize>, line 3)",
     "output_type": "error",
     "traceback": [
      "\u001b[1;36m  File \u001b[1;32m\"<tokenize>\"\u001b[1;36m, line \u001b[1;32m3\u001b[0m\n\u001b[1;33m    elif cpuSelection in beats[playerSelection]:\u001b[0m\n\u001b[1;37m    ^\u001b[0m\n\u001b[1;31mIndentationError\u001b[0m\u001b[1;31m:\u001b[0m unindent does not match any outer indentation level\n"
     ]
    }
   ],
   "source": [
    " if cpuSelection == playerSelection:\n",
    "            print('>>>>>>>> TIE!')\n",
    "        elif cpuSelection in beats[playerSelection]:\n",
    "            score['PLAYER'] = score['PLAYER'] + 1\n",
    "            print('>>>>>>>> PLAYER wins!')\n",
    "        else: \n",
    "            score['CPU'] = score['CPU'] + 1\n",
    "            print('>>>>>>>> CPU wins!')\n",
    "\n",
    "    except KeyError:\n",
    "        print(\"\\n>>> Command not defined!\")\n",
    "        continue"
   ]
  },
  {
   "cell_type": "markdown",
   "metadata": {},
   "source": [
    "#### 9. Define a function that prints the choice of the computer, the choice of the player and a message that announces who won the current round. \n",
    "You should also use this function to update the variables that count the number of rounds that the computer and the player have won. The score of the winner increases by one point. If there is a tie, the score does not increase."
   ]
  },
  {
   "cell_type": "code",
   "execution_count": 26,
   "metadata": {},
   "outputs": [],
   "source": [
    "while playerSelection != 'q':\n",
    "    try:\n",
    "        print(f\"\\nROCK({ROCK}), PAPER({PAPER}), SCISSORS({SCISSORS}), QUIT(q)\")\n",
    "        playerSelection = input() \n",
    "        \n",
    "        print('Player selected', gestures[playerSelection])\n",
    "\n",
    "        cpuSelection = str(random.randint(int(ROCK), int(SCISSORS)))\n",
    "\n",
    "        print('CPU selected', gestures[cpuSelection])\n",
    "\n",
    "        if cpuSelection == playerSelection:\n",
    "            print('>>>>>>>> TIE!')\n",
    "        elif cpuSelection in beats[playerSelection]:\n",
    "            score['PLAYER'] = score['PLAYER'] + 1\n",
    "            print('>>>>>>>> PLAYER wins!')\n",
    "        else: \n",
    "            score['CPU'] = score['CPU'] + 1\n",
    "            print('>>>>>>>> CPU wins!')\n",
    "\n",
    "    except KeyError:\n",
    "        print(\"\\n>>> Command not defined!\")\n",
    "        continue\n"
   ]
  },
  {
   "cell_type": "markdown",
   "metadata": {},
   "source": [
    "#### 10. Now it's time to code the execution of the game using the functions and variables you defined above. \n",
    "\n",
    "First, create a loop structure that repeats while no player reaches the minimum score necessary to win and the number of rounds is less than the maximum number of rounds to play in a game.  \n",
    "\n",
    "Inside the loop, use the functions and variables above to create the execution of a round: ask for the player's choice, generate the random choice of the computer, show the round results, update the scores, etc. "
   ]
  },
  {
   "cell_type": "code",
   "execution_count": null,
   "metadata": {},
   "outputs": [
    {
     "name": "stdout",
     "output_type": "stream",
     "text": [
      "\n",
      "ROCK(1), PAPER(2), SCISSORS(3), QUIT(q)\n",
      "2\n",
      "Player selected PAPER\n",
      "CPU selected SCISSORS\n",
      ">>>>>>>> CPU wins!\n",
      "\n",
      "ROCK(1), PAPER(2), SCISSORS(3), QUIT(q)\n",
      "3\n",
      "Player selected SCISSORS\n",
      "CPU selected SCISSORS\n",
      ">>>>>>>> TIE!\n",
      "\n",
      "ROCK(1), PAPER(2), SCISSORS(3), QUIT(q)\n",
      "1\n",
      "Player selected ROCK\n",
      "CPU selected ROCK\n",
      ">>>>>>>> TIE!\n",
      "\n",
      "ROCK(1), PAPER(2), SCISSORS(3), QUIT(q)\n"
     ]
    }
   ],
   "source": [
    "beats = {\n",
    "    ROCK: [SCISSORS],\n",
    "    PAPER: [ROCK],\n",
    "    SCISSORS: [PAPER],\n",
    "}\n",
    "\n",
    "\n",
    "playerSelection = None\n",
    "\n",
    "\n",
    "while playerSelection != 'q':\n",
    "    try:\n",
    "        print(f\"\\nROCK({ROCK}), PAPER({PAPER}), SCISSORS({SCISSORS}), QUIT(q)\")\n",
    "        playerSelection = input() \n",
    "        \n",
    "        print('Player selected', gestures[playerSelection])\n",
    "\n",
    "        cpuSelection = str(random.randint(int(ROCK), int(SCISSORS)))\n",
    "\n",
    "        print('CPU selected', gestures[cpuSelection])\n",
    "\n",
    "        if cpuSelection == playerSelection:\n",
    "            print('>>>>>>>> TIE!')\n",
    "        elif cpuSelection in beats[playerSelection]:\n",
    "            score['PLAYER'] = score['PLAYER'] + 1\n",
    "            print('>>>>>>>> PLAYER wins!')\n",
    "        else: \n",
    "            score['CPU'] = score['CPU'] + 1\n",
    "            print('>>>>>>>> CPU wins!')\n",
    "\n",
    "    except KeyError:\n",
    "        print(\"\\n>>> Command not defined!\")\n",
    "        continue\n"
   ]
  },
  {
   "cell_type": "markdown",
   "metadata": {},
   "source": [
    "#### 11. Print the winner of the game based on who won more rounds.\n",
    "Remember that the game might be tied. "
   ]
  },
  {
   "cell_type": "code",
   "execution_count": null,
   "metadata": {},
   "outputs": [],
   "source": []
  },
  {
   "cell_type": "markdown",
   "metadata": {},
   "source": [
    "# Bonus: Rock, Paper, Scissors, Lizard & Spock\n",
    "![](images/rpsls.jpg)\n",
    "\n",
    "In this challenge, you need to improve the previous game by adding two new options. To know more about the rules of the improved version of rock, paper, scissors, check this [link](http://www.samkass.com/theories/RPSSL.html). \n",
    "\n",
    "In addition, you will also need to improve how the game interacts with the player: the number of rounds to play, which must be an odd number, will be requested to the user until a valid number is entered. Define a new function to make that request.\n",
    "\n",
    "**Hint**: Try to reuse the code that you already coded in the previous challenge. If your code is efficient, this bonus will only consist of simple modifications to the original game."
   ]
  },
  {
   "cell_type": "code",
   "execution_count": 8,
   "metadata": {},
   "outputs": [
    {
     "name": "stdout",
     "output_type": "stream",
     "text": [
      "\n",
      "ROCK(1), PAPER(2), SCISSORS(3), LIZARD(4), SPOCK(5)     QUIT(q)\n",
      "q\n",
      "Player selected QUIT\n",
      "CPU selected ROCK\n",
      "\n",
      ">>> Command not defined!\n",
      "\n",
      "SCORE\n",
      "PLAYER 0\n",
      "CPU 0\n",
      ">>>> TIE\n",
      "\n",
      "BYE!\n"
     ]
    }
   ],
   "source": [
    "import random\n",
    "\n",
    "ROCK = '1'\n",
    "PAPER = '2'\n",
    "SCISSORS = '3'\n",
    "LIZARD = '4'\n",
    "SPOCK = '5'\n",
    "\n",
    "gestures = {\n",
    "    ROCK: 'ROCK', \n",
    "    PAPER: 'PAPER', \n",
    "    SCISSORS: 'SCISSORS',\n",
    "    LIZARD: 'LIZARD',\n",
    "    SPOCK: 'SPOCK',\n",
    "    'q': 'QUIT'\n",
    "}\n",
    "\n",
    "beats = {\n",
    "    ROCK: [LIZARD, SCISSORS],\n",
    "    PAPER: [SPOCK, ROCK],\n",
    "    SCISSORS: [LIZARD, PAPER],\n",
    "    LIZARD: [SPOCK, PAPER],\n",
    "    SPOCK: [SCISSORS, ROCK],\n",
    "}\n",
    "\n",
    "playerSelection = None\n",
    "\n",
    "cpu_score = 0\n",
    "player_score = 0\n",
    "\n",
    "score = {\n",
    "    'PLAYER': 0,\n",
    "    'CPU': 0,\n",
    "}\n",
    "\n",
    "while playerSelection != 'q':\n",
    "    try:\n",
    "        print(f\"\\nROCK({ROCK}), PAPER({PAPER}), SCISSORS({SCISSORS}), LIZARD({LIZARD}), SPOCK({SPOCK})     QUIT(q)\")\n",
    "        playerSelection = input() \n",
    "        \n",
    "        print('Player selected', gestures[playerSelection])\n",
    "\n",
    "        cpuSelection = str(random.randint(int(ROCK), int(SCISSORS)))\n",
    "\n",
    "        print('CPU selected', gestures[cpuSelection])\n",
    "\n",
    "        if cpuSelection == playerSelection:\n",
    "            print('>>>>>>>> TIE!')\n",
    "        elif cpuSelection in beats[playerSelection]:\n",
    "            score['PLAYER'] = score['PLAYER'] + 1\n",
    "            print('>>>>>>>> PLAYER wins!')\n",
    "        else: \n",
    "            score['CPU'] = score['CPU'] + 1\n",
    "            print('>>>>>>>> CPU wins!')\n",
    "\n",
    "    except KeyError:\n",
    "        print(\"\\n>>> Command not defined!\")\n",
    "        continue\n",
    "\n",
    "print(\"\\nSCORE\")\n",
    "print('PLAYER', score['PLAYER'])\n",
    "print('CPU', score['CPU'])\n",
    "\n",
    "if score['PLAYER'] == score['CPU']:\n",
    "    print('>>>> TIE')\n",
    "elif score['PLAYER'] > score['CPU']:\n",
    "    print('>>>> PLAYER IS THE WINNER')\n",
    "else:\n",
    "    print('>>>> CPU IS THE WINNER')\n",
    "\n",
    "\n",
    "print(\"\\nBYE!\")"
   ]
  },
  {
   "cell_type": "code",
   "execution_count": null,
   "metadata": {},
   "outputs": [],
   "source": []
  }
 ],
 "metadata": {
  "kernelspec": {
   "display_name": "Python 3",
   "language": "python",
   "name": "python3"
  },
  "language_info": {
   "codemirror_mode": {
    "name": "ipython",
    "version": 3
   },
   "file_extension": ".py",
   "mimetype": "text/x-python",
   "name": "python",
   "nbconvert_exporter": "python",
   "pygments_lexer": "ipython3",
   "version": "3.8.3"
  }
 },
 "nbformat": 4,
 "nbformat_minor": 2
}
