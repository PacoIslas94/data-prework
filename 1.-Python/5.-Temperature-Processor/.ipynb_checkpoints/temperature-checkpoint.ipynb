{
 "cells": [
  {
   "cell_type": "markdown",
   "metadata": {},
   "source": [
    "<img src=\"https://bit.ly/2VnXWr2\" width=\"100\" align=\"left\">"
   ]
  },
  {
   "cell_type": "markdown",
   "metadata": {},
   "source": [
    "# Temperature Sensor\n",
    "\n",
    "There is a temperature sensor in the processor of your company's server. The company wants to analyze the data provided by the sensor to decide if they should change the cooling system for a better one. As changing the cooling system is expensive and you are an excellent data analyst, you can't make a decision without basis.\n",
    "\n",
    "## Tools\n",
    "You don't necessarily need to use all the tools. Maybe you opt to use some of them or completely different ones, they are given to help you shape the exercise. Programming exercises can be solved in many different ways.\n",
    "1. Data structures: **lists**\n",
    "2. Loops: **list comprehension**\n",
    "3. Functions: **min, max, print, len**\n",
    "4. Conditional statements: **if-elif-else**\n",
    "\n",
    "## Tasks\n",
    "The temperatures measured throughout the 24 hours of a day are:"
   ]
  },
  {
   "cell_type": "code",
   "execution_count": 45,
   "metadata": {},
   "outputs": [],
   "source": [
    "temperatures_C = [33, 66, 65, 0, 59, 60, 62, 64, 70, 76, 80, 81, 80, 83, 90, 79, 61, 53, 50, 49, 53, 48, 45, 39]"
   ]
  },
  {
   "cell_type": "markdown",
   "metadata": {},
   "source": [
    "The first element of the list is the temperature at 12am, the second element is the temperature at 1am, and so on. \n",
    "\n",
    "The company has decided that if one of the following events occurs, then the cooling system needs to be replaced for a new one to avoid damaging the processor.\n",
    "* More than 4 temperatures are greater than or equal to 70ºC.\n",
    "* Any temperature is above 80ºC.\n",
    "* The average temperature exceeds 65ºC.\n",
    "\n",
    "Follow the steps so that you can make the decision.\n",
    "\n",
    "#### 1. Find the minimum temperature of the day and store it in a variable."
   ]
  },
  {
   "cell_type": "code",
   "execution_count": 33,
   "metadata": {},
   "outputs": [
    {
     "name": "stdout",
     "output_type": "stream",
     "text": [
      "min temperature 0\n"
     ]
    }
   ],
   "source": [
    "Min_Temp = 9999\n",
    "\n",
    "for temperature in temperatures_C:\n",
    "    if temperature < Min_Temp:\n",
    "        Min_Temp = temperature\n",
    "    \n",
    "print('min temperature', Min_Temp)"
   ]
  },
  {
   "cell_type": "markdown",
   "metadata": {},
   "source": [
    "#### 2. Find the maximum temperature of the day and store it in a variable."
   ]
  },
  {
   "cell_type": "code",
   "execution_count": 34,
   "metadata": {},
   "outputs": [
    {
     "name": "stdout",
     "output_type": "stream",
     "text": [
      "max temperature 90\n"
     ]
    }
   ],
   "source": [
    "Max_Temp = 0\n",
    "\n",
    "for temperature in temperatures_C:\n",
    "    if temperature > Max_Temp:\n",
    "        Max_Temp = temperature\n",
    "    \n",
    "print('max temperature', Max_Temp)"
   ]
  },
  {
   "cell_type": "markdown",
   "metadata": {},
   "source": [
    "#### 3. Create a list with the temperatures that are greater than or equal to 70ºC. Store it in a variable."
   ]
  },
  {
   "cell_type": "code",
   "execution_count": 35,
   "metadata": {},
   "outputs": [
    {
     "name": "stdout",
     "output_type": "stream",
     "text": [
      "temperatures greater than 70 [70, 76, 80, 81, 80, 83, 90, 79]\n"
     ]
    }
   ],
   "source": [
    "greaterThan70 = getAllTemperaturesAbove(temperatures_C, 70) \n",
    "print('temperatures greater than 70', greaterThan70)"
   ]
  },
  {
   "cell_type": "markdown",
   "metadata": {},
   "source": [
    "#### 4. Find the average temperature of the day and store it in a variable."
   ]
  },
  {
   "cell_type": "code",
   "execution_count": 49,
   "metadata": {},
   "outputs": [
    {
     "name": "stdout",
     "output_type": "stream",
     "text": [
      "Average temperature 60.25\n"
     ]
    }
   ],
   "source": [
    "import math\n",
    "\n",
    "\n",
    "Average_Temperature = sum(temperatures_C) / len(temperatures_C)\n",
    "\n",
    "print('Average temperature', Average_Temperature)"
   ]
  },
  {
   "cell_type": "markdown",
   "metadata": {},
   "source": [
    "#### 5. Imagine that there was a sensor failure at 3am and the data for that specific hour was not recorded. How would you estimate the missing value? Replace the current value of the list at 3am for an estimation. "
   ]
  },
  {
   "cell_type": "code",
   "execution_count": 50,
   "metadata": {},
   "outputs": [],
   "source": [
    "def lerp(pointMin, pointMax, x):\n",
    "    x2minusx1 = x - pointMin[0]\n",
    "    y3minusy1 = pointMax[1] - pointMin[1]\n",
    "    x3minusx1 = pointMax[0]-pointMin[0]\n",
    "    return (x2minusx1*y3minusy1/x3minusx1) + pointMin[1]"
   ]
  },
  {
   "cell_type": "markdown",
   "metadata": {},
   "source": [
    "#### 6. Bonus: the maintenance staff is from the United States and does not understand the international metric system. Help them by converting the temperatures from Celsius to Fahrenheit.\n",
    "To know more about temperature conversion check this [link](https://en.wikipedia.org/wiki/Conversion_of_units_of_temperature).\n",
    "\n",
    "**Formula**: \n",
    "\n",
    "$F = 1.8 * C + 32$"
   ]
  },
  {
   "cell_type": "code",
   "execution_count": 22,
   "metadata": {},
   "outputs": [
    {
     "name": "stdout",
     "output_type": "stream",
     "text": [
      "missing by linear interpolation 62.0\n"
     ]
    }
   ],
   "source": [
    "def celciusToFahrenheit(value):\n",
    "    return 1.8 * value + 32;\n",
    "    \n",
    "def getAllTemperaturesAbove(temperatures, value):\n",
    "    greaterThanValue = []\n",
    "\n",
    "    for temperature in temperatures:\n",
    "        if temperature >= value:\n",
    "            greaterThanValue.append(temperature)\n",
    "    \n",
    "    return greaterThanValue\n",
    "\n",
    "print('missing by linear interpolation', lerp((2,65), (4,59), 3))"
   ]
  },
  {
   "cell_type": "markdown",
   "metadata": {},
   "source": [
    "#### 7. Make a decision!\n",
    "Now it's time to make a decision taking into account what you have seen until now. \n",
    "\n",
    "Remember that if one of the following events occurs, then the cooling system needs to be replaced for a new one to avoid damaging the processor.\n",
    "* More than 4 temperatures are greater than or equal to 70ºC.\n",
    "* Any temperature is above 80ºC.\n",
    "* The average temperature exceeds 65ºC.\n",
    "\n",
    "#### To make your decision, check if any of the three conditions above is met. You might need to use some of the variables you created in steps 1 to 6. Print a message to show if the cooling system needs to be changed or not."
   ]
  },
  {
   "cell_type": "code",
   "execution_count": 52,
   "metadata": {},
   "outputs": [
    {
     "name": "stdout",
     "output_type": "stream",
     "text": [
      "temperatures in F [91.4, 150.8, 149.0, 32.0, 138.2, 140.0, 143.60000000000002, 147.2, 158.0, 168.8, 176.0, 177.8, 176.0, 181.4, 194.0, 174.20000000000002, 141.8, 127.4, 122.0, 120.2, 127.4, 118.4, 113.0, 102.2]\n",
      "\n",
      ">>>More than 4 temperatures are greater than or equal to 70ºC.\n",
      "True\n",
      ">>>Any temperature is above 80ºC.\n",
      "True\n",
      ">>>The average temperature exceeds 65ºC.\n",
      "False\n",
      "System needs replacement: False\n"
     ]
    }
   ],
   "source": [
    "temperaturesInF = []\n",
    "\n",
    "for temperature in temperatures_C:\n",
    "    temperaturesInF.append(celciusToFahrenheit(temperature))\n",
    "\n",
    "print('temperatures in F', temperaturesInF)\n",
    "\n",
    "print()\n",
    "\n",
    "print('>>>More than 4 temperatures are greater than or equal to 70ºC.')\n",
    "caseA = len(greaterThan70) > 4\n",
    "print(caseA)\n",
    "    \n",
    "print('>>>Any temperature is above 80ºC.')\n",
    "caseB = len(getAllTemperaturesAbove(temperatures_C, 80)) > 0\n",
    "print(caseB)\n",
    "\n",
    "print('>>>The average temperature exceeds 65ºC.')\n",
    "caseC = Average_Temperature > 65\n",
    "print(caseC)\n",
    "\n",
    "needsReplacement = caseA and caseB and caseC\n",
    "print('System needs replacement:', needsReplacement)"
   ]
  },
  {
   "cell_type": "markdown",
   "metadata": {},
   "source": [
    "## Bonus\n",
    "\n",
    "The company has decided that the decision you made is not valid. They want you to analyze the data again but this time, the conditions that need to be met in order to change the cooling system are different.\n",
    "\n",
    "This time, if one of the following events occurs, then the cooling system needs to be replaced:\n",
    "* The temperature is greater than 70ºC during more than 4 consecutive hours.\n",
    "* Any temperature is above 80ºC.\n",
    "* The average temperature exceeds 65ºC.\n",
    "\n",
    "Follow the steps so that you can make the decision.\n",
    "\n",
    "#### 1. Create a list with the hours where the temperature is greater than 70ºC. Store it in a variable."
   ]
  },
  {
   "cell_type": "code",
   "execution_count": 53,
   "metadata": {},
   "outputs": [],
   "source": [
    "list :[0,  1,  2,  3,   4,   5,   6,   7,   8,   9,  10,  11,  12,  13,  14,  15,  16,  17,  18,  19,  20,  21,  22, 23]"
   ]
  },
  {
   "cell_type": "markdown",
   "metadata": {},
   "source": [
    "#### 2. Check if the list you created in step 1 has more than 4 consecutive hours. "
   ]
  },
  {
   "cell_type": "code",
   "execution_count": 55,
   "metadata": {},
   "outputs": [
    {
     "name": "stdout",
     "output_type": "stream",
     "text": [
      "\n",
      ">>>The temperature is greater than 70ºC during more than 4 consecutive hours\n",
      "True\n",
      ">>>Any temperature is above 80ºC.\n",
      "True\n",
      ">>>The average temperature exceeds 65ºC.\n",
      "False\n",
      "System needs replacement: False\n"
     ]
    }
   ],
   "source": [
    "for temperature in temperatures_C:\n",
    "    if temperature > 70:\n",
    "        temperaturesGreaterThat70 = temperaturesGreaterThat70 + 1\n",
    "    else:\n",
    "        temperaturesGreaterThat70 = 0\n",
    "print()\n",
    "\n",
    "print('>>>The temperature is greater than 70ºC during more than 4 consecutive hours')\n",
    "caseD = len(greaterThan70) > 4\n",
    "print(caseD)\n",
    "    \n",
    "print('>>>Any temperature is above 80ºC.')\n",
    "caseB = len(getAllTemperaturesAbove(temperatures_C, 80)) > 0\n",
    "print(caseB)\n",
    "\n",
    "print('>>>The average temperature exceeds 65ºC.')\n",
    "caseC = Average_Temperature > 65\n",
    "print(caseC)\n",
    "    \n",
    "needsReplacement = caseD and caseB and caseC\n",
    "print('System needs replacement:', needsReplacement)"
   ]
  },
  {
   "cell_type": "markdown",
   "metadata": {},
   "source": [
    "#### 3. Make the decision!\n",
    "To make your decision, check if any of the three conditions is met. Print a message to show if the cooling system needs to be changed or not."
   ]
  },
  {
   "cell_type": "code",
   "execution_count": 56,
   "metadata": {},
   "outputs": [
    {
     "name": "stdout",
     "output_type": "stream",
     "text": [
      "System needs replacement: False\n",
      "\n",
      "\n",
      "\n",
      "\n"
     ]
    }
   ],
   "source": [
    "needsReplacement = caseD and caseB and caseC\n",
    "print('System needs replacement:', needsReplacement)\n",
    "\n",
    "\n",
    "\n",
    "print()\n",
    "print()\n",
    "print()\n",
    "print()"
   ]
  },
  {
   "cell_type": "markdown",
   "metadata": {},
   "source": [
    "#### 4. Find the average value of the temperature lists (ºC and ºF). What is the relation between both average values?"
   ]
  },
  {
   "cell_type": "code",
   "execution_count": 58,
   "metadata": {},
   "outputs": [
    {
     "name": "stdout",
     "output_type": "stream",
     "text": [
      "mean C 60.25\n",
      "mean F 140.45\n"
     ]
    }
   ],
   "source": [
    "def AverageTemperature(values):\n",
    "    return sum(values) /len(values)\n",
    "\n",
    "Average_TemperatureC = AverageTemperature(temperatures_C)\n",
    "Average_TemperatureF = AverageTemperature(temperaturesInF)\n",
    "print('mean C', Average_TemperatureC)\n",
    "print('mean F', Average_TemperatureF)"
   ]
  },
  {
   "cell_type": "markdown",
   "metadata": {},
   "source": [
    "#### 5. Find the standard deviation of the temperature lists (ºC and ºF). What is the relation between both standard deviations?"
   ]
  },
  {
   "cell_type": "code",
   "execution_count": 60,
   "metadata": {},
   "outputs": [
    {
     "name": "stdout",
     "output_type": "stream",
     "text": [
      "\n",
      "\n",
      "\n",
      "[2.76969696969697, 2.284848484848485, 2.292307692307692, 2.342372881355932, 2.3333333333333335, 2.3161290322580648, 2.3, 2.257142857142857, 2.2210526315789476, 2.2, 2.195061728395062, 2.2, 2.185542168674699, 2.1555555555555554, 2.2050632911392407, 2.3245901639344266, 2.4037735849056605, 2.44, 2.453061224489796, 2.4037735849056605, 2.466666666666667, 2.511111111111111, 2.6205128205128205]\n",
      "\n",
      "\n",
      "stdDevC 19.285681216902866\n",
      "stdDevF 34.71422619042516\n"
     ]
    }
   ],
   "source": [
    "def StdDev(values):\n",
    "\n",
    "    Average = AverageTemperature(values)\n",
    "\n",
    "    totalSum = 0\n",
    "    for value in values:\n",
    "        totalSum = totalSum + math.pow(value - Average, 2)\n",
    "\n",
    "    return math.sqrt(totalSum/len(values))\n",
    "\n",
    "maxTemps = len(temperatures_C)\n",
    "divs = []\n",
    "\n",
    "for i in range(0, maxTemps):\n",
    "    if temperatures_C[i] == 0:\n",
    "        continue\n",
    "    divs.append(temperaturesInF[i] / temperatures_C[i])\n",
    "\n",
    "print()\n",
    "print()\n",
    "print()\n",
    "print(divs)\n",
    "\n",
    "\n",
    "\n",
    "stdDevC = StdDev(temperatures_C)\n",
    "stdDevF = StdDev(temperaturesInF)\n",
    "\n",
    "print()\n",
    "print()\n",
    "print('stdDevC', stdDevC)\n",
    "print('stdDevF', stdDevF)"
   ]
  },
  {
   "cell_type": "code",
   "execution_count": null,
   "metadata": {},
   "outputs": [],
   "source": []
  }
 ],
 "metadata": {
  "kernelspec": {
   "display_name": "Python 3",
   "language": "python",
   "name": "python3"
  },
  "language_info": {
   "codemirror_mode": {
    "name": "ipython",
    "version": 3
   },
   "file_extension": ".py",
   "mimetype": "text/x-python",
   "name": "python",
   "nbconvert_exporter": "python",
   "pygments_lexer": "ipython3",
   "version": "3.8.3"
  }
 },
 "nbformat": 4,
 "nbformat_minor": 2
}
